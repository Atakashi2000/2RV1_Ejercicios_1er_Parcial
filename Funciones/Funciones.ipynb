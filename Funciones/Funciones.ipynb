{
  "nbformat": 4,
  "nbformat_minor": 0,
  "metadata": {
    "colab": {
      "name": "Funciones.ipynb",
      "provenance": []
    },
    "kernelspec": {
      "name": "python3",
      "display_name": "Python 3"
    }
  },
  "cells": [
    {
      "cell_type": "markdown",
      "metadata": {
        "id": "wYabYZIPdiEW"
      },
      "source": [
        "#**1.1.2 Ejercicios**\n"
      ]
    },
    {
      "cell_type": "markdown",
      "metadata": {
        "id": "WHXB6aV_d40E"
      },
      "source": [
        "---\n",
        "---\n",
        "##**▷☻ 1.1.2.1.Mensaje:**\n",
        "###***Planteamiento del problema:***\n",
        "      \n",
        ">Escriba una función llamanda $\\verb|display_message()|$ que imprima en la pantalla un mensaje que indique los temas que se han visto hasta el momento."
      ]
    },
    {
      "cell_type": "code",
      "metadata": {
        "id": "VrAg4sXteF_F",
        "outputId": "0f398204-d25a-4305-e6b2-5e33b0e2445d",
        "colab": {
          "base_uri": "https://localhost:8080/"
        }
      },
      "source": [
        "def display_message():\n",
        "  print(\"Los temas que se han visto hasta el momento son Funciones y Clases\")\n",
        "\n",
        "display_message()"
      ],
      "execution_count": 2,
      "outputs": [
        {
          "output_type": "stream",
          "text": [
            "Los temas que se han visto hasta el momento son Funciones y Clases\n"
          ],
          "name": "stdout"
        }
      ]
    },
    {
      "cell_type": "markdown",
      "metadata": {
        "id": "75orq-2RfGno"
      },
      "source": [
        "---\n",
        "---\n",
        "##**▷☻ 1.1.2.2.Libro favorito:**\n",
        "###***Planteamiento del problema:***\n",
        "      \n",
        ">Escriba una función que se llame $\\verb|libro_favorito()|$ que acepte un parámetro llamado $\\verb|titulo|$ y que despligue en la terminal Tu libro favorito es (nombre del libro)"
      ]
    },
    {
      "cell_type": "code",
      "metadata": {
        "id": "Aiv_QDdXfXED",
        "outputId": "d1dd2062-5997-48b9-9294-475e34fd0a28",
        "colab": {
          "base_uri": "https://localhost:8080/"
        }
      },
      "source": [
        "def libro_favorito(titulo):\n",
        "  print(\"Tu libro favorito es \"+ titulo)\n",
        "\n",
        "libro_favorito(\"Breve historia del tiempo\")"
      ],
      "execution_count": 3,
      "outputs": [
        {
          "output_type": "stream",
          "text": [
            "Tu libro favorito es Breve historia del tiempo\n"
          ],
          "name": "stdout"
        }
      ]
    },
    {
      "cell_type": "markdown",
      "metadata": {
        "id": "V38vpFcBgHzQ"
      },
      "source": [
        "#**1.3 Ejercicios**\n"
      ]
    },
    {
      "cell_type": "markdown",
      "metadata": {
        "id": "MJnQvDQAgLJG"
      },
      "source": [
        "---\n",
        "---\n",
        "##**▷☻ 1.3.1.Playera:**\n",
        "###***Planteamiento del problema:***\n",
        "      \n",
        ">Escriba una función llamanda $\\verb|hacerPlayera()|$ que acepte como argumento, el tamaño y un texto que apararecerá cerigrafeado en la playera. La función deberá imprimir en la terminal algo parecido a lo siguiente\n",
        ">\n",
        ">La playera es talla \"Grande\" y el texto a cerigrafear es: \"Hola amigos\"\n",
        ">\n",
        ">Para verificar el correcto funcionamiento de la función, genere un programa que la invoque."
      ]
    },
    {
      "cell_type": "code",
      "metadata": {
        "id": "c7cY8UvKglQg",
        "outputId": "714bc5d6-b213-4ec7-c2ee-582c80f6185c",
        "colab": {
          "base_uri": "https://localhost:8080/"
        }
      },
      "source": [
        "def hacerPlayera(tamano, texto):\n",
        "  print('La playera es talla \"'+tamano+'\" y el texto a cerigrafear es: \"'+texto+'\"')\n",
        "\n",
        "hacerPlayera(\"Grande\",\"Hola amigos\")"
      ],
      "execution_count": 5,
      "outputs": [
        {
          "output_type": "stream",
          "text": [
            "La playera es talla \"Grande\" y el texto a cerigrafear es: \"Hola amigos\"\n"
          ],
          "name": "stdout"
        }
      ]
    },
    {
      "cell_type": "markdown",
      "metadata": {
        "id": "mVF4YVdShYxY"
      },
      "source": [
        "---\n",
        "---\n",
        "##**▷☻ 1.3.2.Playeras Grandes:**\n",
        "###***Planteamiento del problema:***\n",
        "      \n",
        ">Modique la función $\\verb|hacerPlayera()|$ de tal manera que las playeras grandes sean predeterminadas y el texto predefinido para la cerigrafear sea $\\verb|yo <3 Python|$.\n",
        ">\n",
        ">Para verificar el correcto funcionamiento del módulo:\n",
        ">\n",
        ">    Genere una playera grande utlizando el texto predeterminado.\n",
        ">\n",
        ">    Genere una playera mediana con el texto predeterminado.\n",
        ">\n",
        ">   Genere una playera de talla distnta a grande con un texto distinto al \n",
        "predeterminado.\n"
      ]
    },
    {
      "cell_type": "code",
      "metadata": {
        "id": "6YiFeWIviC05",
        "outputId": "ce560006-e18c-4709-9a82-aaa5f6d21c4f",
        "colab": {
          "base_uri": "https://localhost:8080/"
        }
      },
      "source": [
        "def hacerPlayera(tamano = 'Grande', texto = 'Yo <3 Python'):\n",
        "  print('La playera es talla \"'+tamano+'\" y el texto a cerigrafear es: \"'+texto+'\"')\n",
        "  print(\"\")\n",
        "\n",
        "hacerPlayera()\n",
        "hacerPlayera(\"Mediana\")\n",
        "hacerPlayera(\"Chica\", \"Poio\")"
      ],
      "execution_count": 6,
      "outputs": [
        {
          "output_type": "stream",
          "text": [
            "La playera es talla \"Grande\" y el texto a cerigrafear es: \"Yo <3 Python\"\n",
            "\n",
            "La playera es talla \"Mediana\" y el texto a cerigrafear es: \"Yo <3 Python\"\n",
            "\n",
            "La playera es talla \"Chica\" y el texto a cerigrafear es: \"Poio\"\n",
            "\n"
          ],
          "name": "stdout"
        }
      ]
    },
    {
      "cell_type": "markdown",
      "metadata": {
        "id": "T5OEF0FjjxXF"
      },
      "source": [
        "---\n",
        "---\n",
        "##**▷☻ 1.3.2.Países y ciudades:**\n",
        "###***Planteamiento del problema:***\n",
        "      \n",
        ">Escriba una función llamada $\\verb|descripcionCiudad()|$ que acepte como argumentos el nombre de una ciudad y el nombre de un país como argumentos y que imprima en la terminal un texto como: Xalapa está en México, Río de Janeiro está en Brazil, París está en Fracia. Ponga como valor predeterminado \"México\" a la variable país, y llame a la función tres veces donde por lo menos una ciudad no pertenezca al país México."
      ]
    },
    {
      "cell_type": "code",
      "metadata": {
        "id": "JsaC1AiTj68O",
        "outputId": "7eeacf56-3881-4730-bd2b-bdb49b9a5bc2",
        "colab": {
          "base_uri": "https://localhost:8080/"
        }
      },
      "source": [
        "def descripcionCiudad(nom_ciudad, pais = 'México'):\n",
        "  print(nom_ciudad+\" está en \"+pais)\n",
        "\n",
        "descripcionCiudad(\"Guerrero\")\n",
        "descripcionCiudad(\"París\",\"Francia\")\n",
        "descripcionCiudad(\"La paz\")"
      ],
      "execution_count": 7,
      "outputs": [
        {
          "output_type": "stream",
          "text": [
            "Guerrero está en México\n",
            "París está en Francia\n",
            "La paz está en México\n"
          ],
          "name": "stdout"
        }
      ]
    },
    {
      "cell_type": "markdown",
      "metadata": {
        "id": "ON95ePkFkr9A"
      },
      "source": [
        "#**1.6 Ejercicios**"
      ]
    },
    {
      "cell_type": "markdown",
      "metadata": {
        "id": "45_fzbdRkxiC"
      },
      "source": [
        "---\n",
        "---\n",
        "##**▷☻ 2:**\n",
        "###***Planteamiento del problema:***\n",
        "      \n",
        ">Hacer una función que el usuario introduzca un número y la función debe de desplegar un triángulo de sumas, Como ejemplo, si el usuario manda a la función 4 debeía imprimir el siguiente arreglo"
      ]
    },
    {
      "cell_type": "code",
      "metadata": {
        "id": "7ceJA5oYmAah",
        "outputId": "da5ea6eb-e10e-4e35-fd07-e1d4c812f96d",
        "colab": {
          "base_uri": "https://localhost:8080/"
        }
      },
      "source": [
        "def triangulo(numero):\n",
        "  for i in range(1, numero + 1):\n",
        "    print('+' * i + '\\n')\n",
        "\n",
        "triangulo(4)"
      ],
      "execution_count": 8,
      "outputs": [
        {
          "output_type": "stream",
          "text": [
            "+\n",
            "\n",
            "++\n",
            "\n",
            "+++\n",
            "\n",
            "++++\n",
            "\n"
          ],
          "name": "stdout"
        }
      ]
    }
  ]
}