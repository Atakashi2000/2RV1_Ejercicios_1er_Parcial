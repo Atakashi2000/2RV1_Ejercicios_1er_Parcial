{
  "nbformat": 4,
  "nbformat_minor": 0,
  "metadata": {
    "colab": {
      "name": "Clases.ipynb",
      "provenance": []
    },
    "kernelspec": {
      "name": "python3",
      "display_name": "Python 3"
    }
  },
  "cells": [
    {
      "cell_type": "markdown",
      "metadata": {
        "id": "uk0h9u0mE1YA"
      },
      "source": [
        "#**2.3 Ejercicios**\n",
        "\n"
      ]
    },
    {
      "cell_type": "markdown",
      "metadata": {
        "id": "DHEEIX_m2Tf1"
      },
      "source": [
        "---\n",
        "---\n",
        "##**▷☻ 1.-Restaurante**\n",
        "###***Planteamiento del problema:***\n",
        "      \n",
        ">**a)** *Crear una clase llamada Restaurant. El método _init_() debe aceptar\n",
        "    dos atributos: El nombre_restaurant y el tipo_cocina.*\n",
        ">\n",
        ">**b)** *Crear un método que se llame describe_restaurant que imprima: El \n",
        "    nombre del restaurant es: ------ y El tipo de comida que se sirve es: \n",
        "    -------.*\n",
        ">\n",
        ">**c)** *Generar*"
      ]
    },
    {
      "cell_type": "code",
      "metadata": {
        "id": "1A5N7-cx0bC2",
        "outputId": "4c3ff6e3-531a-4d0d-d4e3-8fb0aff10664",
        "colab": {
          "base_uri": "https://localhost:8080/"
        }
      },
      "source": [
        "class Restaurant():\n",
        "    \n",
        "    def __init__(self,nombre_restaurat,tipo_cocina):\n",
        "        self.nombre_restaurat=nombre_restaurat\n",
        "        self.tipo_cocina=tipo_cocina\n",
        "        \n",
        "    def describe_restaurant(self):\n",
        "        print(\"El nombre del restaurante es: \"+self.nombre_restaurat)\n",
        "        print(\"El tipo de comida que se sirve es: \"+self.tipo_cocina)\n",
        "    \n",
        "Rest=Restaurant(\"Fonda María\",\"Sushi\")\n",
        "Rest.describe_restaurant()"
      ],
      "execution_count": null,
      "outputs": [
        {
          "output_type": "stream",
          "text": [
            "El nombre del restaurante es: Fonda María\n",
            "El tipo de comida que se sirve es: Sushi\n"
          ],
          "name": "stdout"
        }
      ]
    },
    {
      "cell_type": "markdown",
      "metadata": {
        "id": "5rV_MuU7A2zS"
      },
      "source": [
        "---\n",
        "---\n",
        "##**▷☻ 2.- Tres Restaurantes:**\n",
        "      \n",
        ">*Crear tres restaurantes utilizando la clase que se ha definido con \n",
        "anterioridad y llame al método describe_restaurant para cada instancia de \n",
        "la clase.* "
      ]
    },
    {
      "cell_type": "code",
      "metadata": {
        "id": "DWEzrGmzBC6x",
        "outputId": "749d4396-9145-4910-dfa4-06e0f45376a5",
        "colab": {
          "base_uri": "https://localhost:8080/"
        }
      },
      "source": [
        "class Restaurant():\n",
        "    \n",
        "    def __init__(self,nombre_restaurat,tipo_cocina):\n",
        "        self.nombre_restaurat=nombre_restaurat\n",
        "        self.tipo_cocina=tipo_cocina\n",
        "        \n",
        "    def Generar(self):\n",
        "        print(\"El nombre del restaurante es: \"+self.nombre_restaurat)\n",
        "        print(\"El tipo de comida que se sirve es: \"+self.tipo_cocina)\n",
        "    \n",
        "Rest=Restaurant(\"Fonda María\",\"Japonesa\")\n",
        "Rest.Generar()\n",
        "print(\"\")\n",
        "\n",
        "Rest=Restaurant(\"Fonda Juana\",\"Taiwanesa\")\n",
        "Rest.Generar()\n",
        "print(\"\")\n",
        "\n",
        "Rest=Restaurant(\"Fonda Pedro\",\"India\")\n",
        "Rest.Generar()\n",
        "print(\"\")\n",
        "\n",
        "Rest=Restaurant(\"Fonda Toño\",\"Árabe\")\n",
        "Rest.Generar()"
      ],
      "execution_count": null,
      "outputs": [
        {
          "output_type": "stream",
          "text": [
            "El nombre del restaurante es: Fonda María\n",
            "El tipo de comida que se sirve es: Japonesa\n",
            "\n",
            "El nombre del restaurante es: Fonda Juana\n",
            "El tipo de comida que se sirve es: Taiwanesa\n",
            "\n",
            "El nombre del restaurante es: Fonda Pedro\n",
            "El tipo de comida que se sirve es: India\n",
            "\n",
            "El nombre del restaurante es: Fonda Toño\n",
            "El tipo de comida que se sirve es: Árabe\n"
          ],
          "name": "stdout"
        }
      ]
    },
    {
      "cell_type": "markdown",
      "metadata": {
        "id": "Hs2kSUkfB_W1"
      },
      "source": [
        "---\n",
        "---\n",
        "##**▷☻ 3.- Usuarios:**\n",
        "      \n",
        ">**a)** *Cree una clase que se llame Usuario.*\n",
        ">\n",
        ">**b)** *Cree dos atributos llamados Nombre y Apellido, agregue atributos como  CURP Fecha_Nacimiento, Sexo, Grado_estudios.*\n",
        ">\n",
        ">**c)** *Genere un método llamado Saluda_usuario y que despliegue en pantalla algo como Hola Juan Ruiz de Alarcón.*\n",
        ">\n",
        ">**d)** *Genere un método que se llame Describe_usuario y que muestre toda la información del usuario.*\n",
        ">\n",
        ">**e)** *Genere 5 objetos tipo usuario y ejecute los dos métodos anteriormente descritos.*"
      ]
    },
    {
      "cell_type": "code",
      "metadata": {
        "id": "5JpgIL1HCUJU",
        "outputId": "bd5b3dce-4ed3-47fe-a884-ff2a041c7025",
        "colab": {
          "base_uri": "https://localhost:8080/"
        }
      },
      "source": [
        "class Usuario():\n",
        "    def __init__(self,Nombre,Apellido,CURP,Fecha_Nacimiento,Sexo,Grado_estudios):\n",
        "        self.Nombre=Nombre\n",
        "        self.Apellido=Apellido\n",
        "        self.CURP=CURP\n",
        "        self.Fecha_Nacimiento=Fecha_Nacimiento\n",
        "        self.Sexo=Sexo\n",
        "        self.Grado_estudios=Grado_estudios\n",
        "\n",
        "    def Saluda_usuario(self):\n",
        "        print(\"\")\n",
        "        print(\"Hola \"+self.Nombre+\" \"+self.Apellido)\n",
        "        print(\"\")\n",
        "\n",
        "    def Describe_usuario(self):\n",
        "        print(\"--- DATOS DEL USUARIO ---\")\n",
        "        print(\"Nombre: \"+self.Nombre)\n",
        "        print(\"Apellido: \"+self.Apellido)\n",
        "        print(\"CURP: \"+self.CURP)\n",
        "        print(\"Fecha de Nacimiento: \"+self.Fecha_Nacimiento)\n",
        "        print(\"Sexo: \"+self.Sexo)\n",
        "        print(\"Grado de estudios: \"+self.Grado_estudios)\n",
        "        print(\"_______________________________________________\")\n",
        "\n",
        "Usu=Usuario(\"Néstor\",\"Flores\",\"123\",\"6 de noviembre de 2000\",\"Hombre\",\"Licenciatura\")\n",
        "Usu.Saluda_usuario()\n",
        "Usu.Describe_usuario()\n",
        "\n",
        "Usu=Usuario(\"Jesús\",\"Villada\",\"132\",\"29 de octubre de 1996\",\"Hombre\",\"Licenciatura\")\n",
        "Usu.Saluda_usuario()\n",
        "Usu.Describe_usuario()\n",
        "\n",
        "Usu=Usuario(\"Andrea\",\"Vega\",\"213\",\"14 de septiembre de 1999\",\"Mujer\",\"Licenciatura\")\n",
        "Usu.Saluda_usuario()\n",
        "Usu.Describe_usuario()\n",
        "\n",
        "Usu=Usuario(\"Carlos\",\"Yaved\",\"231\",\"25 de julio de 1998\",\"Hombre\",\"Licenciatura\")\n",
        "Usu.Saluda_usuario()\n",
        "Usu.Describe_usuario()\n",
        "\n",
        "Usu=Usuario(\"Fernanda\",\"Beltran\",\"312\",\"29 de febrero de 2000\",\"Mujer\",\"Licenciatura\")\n",
        "Usu.Saluda_usuario()\n",
        "Usu.Describe_usuario()"
      ],
      "execution_count": null,
      "outputs": [
        {
          "output_type": "stream",
          "text": [
            "\n",
            "Hola Néstor Flores\n",
            "\n",
            "--- DATOS DEL USUARIO ---\n",
            "Nombre: Néstor\n",
            "Apellido: Flores\n",
            "CURP: 123\n",
            "Fecha de Nacimiento: 6 de noviembre de 2000\n",
            "Sexo: Hombre\n",
            "Grado de estudios: Licenciatura\n",
            "_______________________________________________\n",
            "\n",
            "Hola Jesús Villada\n",
            "\n",
            "--- DATOS DEL USUARIO ---\n",
            "Nombre: Jesús\n",
            "Apellido: Villada\n",
            "CURP: 132\n",
            "Fecha de Nacimiento: 29 de octubre de 1996\n",
            "Sexo: Hombre\n",
            "Grado de estudios: Licenciatura\n",
            "_______________________________________________\n",
            "\n",
            "Hola Andrea Vega\n",
            "\n",
            "--- DATOS DEL USUARIO ---\n",
            "Nombre: Andrea\n",
            "Apellido: Vega\n",
            "CURP: 213\n",
            "Fecha de Nacimiento: 14 de septiembre de 1999\n",
            "Sexo: Mujer\n",
            "Grado de estudios: Licenciatura\n",
            "_______________________________________________\n",
            "\n",
            "Hola Carlos Yaved\n",
            "\n",
            "--- DATOS DEL USUARIO ---\n",
            "Nombre: Carlos\n",
            "Apellido: Yaved\n",
            "CURP: 231\n",
            "Fecha de Nacimiento: 25 de julio de 1998\n",
            "Sexo: Hombre\n",
            "Grado de estudios: Licenciatura\n",
            "_______________________________________________\n",
            "\n",
            "Hola Fernanda Beltran\n",
            "\n",
            "--- DATOS DEL USUARIO ---\n",
            "Nombre: Fernanda\n",
            "Apellido: Beltran\n",
            "CURP: 312\n",
            "Fecha de Nacimiento: 29 de febrero de 2000\n",
            "Sexo: Mujer\n",
            "Grado de estudios: Licenciatura\n",
            "_______________________________________________\n"
          ],
          "name": "stdout"
        }
      ]
    },
    {
      "cell_type": "markdown",
      "metadata": {
        "id": "mCzouRuCpKsB"
      },
      "source": [
        "#**2.4.4 Ejercicios**\n"
      ]
    },
    {
      "cell_type": "markdown",
      "metadata": {
        "id": "so7vGiUgpYP7"
      },
      "source": [
        "---\n",
        "---\n",
        "##**▷☻ 1.-Clientes atendidos:**\n",
        "###***Planteamiento del problema:***\n",
        "      \n",
        ">Retomar la clase de **Restaurante** que se generó a lo largo de este notebook y agregar un atributo que clientes_atendidos y agregar dos métodos:\n",
        ">\n",
        ">**1.Clientes_Atendidos(self,numero)**: que pueda modificar el número de clientes.\n",
        ">\n",
        ">**2.Aumenta_Clientes(self,numero)**: que pueda aumentar el número de clientes que se han atendido.\n"
      ]
    },
    {
      "cell_type": "code",
      "metadata": {
        "id": "DhO7fDVVrrGg",
        "outputId": "ed53d352-3001-4a9a-adc4-fee5b6365603",
        "colab": {
          "base_uri": "https://localhost:8080/"
        }
      },
      "source": [
        "class Restaurant():\n",
        "    \n",
        "    def __init__(self,nombre_restaurat,tipo_cocina):\n",
        "        self.nombre_restaurat=nombre_restaurat\n",
        "        self.tipo_cocina=tipo_cocina\n",
        "        self.clientes=0\n",
        "\n",
        "    def describe_restaurant(self):\n",
        "        print(\"El nombre del restaurante es: \"+self.nombre_restaurat)\n",
        "        print(\"El tipo de comida que se sirve es: \"+self.tipo_cocina)\n",
        "        print(\"\")\n",
        "    \n",
        "    def Clientes_Atendidos(self,numero):\n",
        "        if numero>=self.clientes:\n",
        "          print(\"Asignación correcta\")\n",
        "          self.clientes=numero\n",
        "          print(\"Se han atendido \"+str(self.clientes)+\" clientes.\")\n",
        "          print(\"\")\n",
        "        else:\n",
        "          print(\"Asignación incorrecta, no se ha llevado a cabo\")\n",
        "          print(\"Se han atendido \"+str(self.clientes)+\" clientes.\")\n",
        "          print(\"\")\n",
        "\n",
        "    def Aumenta_clientes(self,numero):\n",
        "        if numero>=0:\n",
        "          print(\"Incremento correcto\")\n",
        "          self.clientes+=numero\n",
        "          print(\"Se han atendido \"+str(self.clientes)+\" clientes.\")\n",
        "          print(\"\")\n",
        "        else:\n",
        "          print(\"Incremento incorrecto, no se llavará a cabo\")\n",
        "          print(\"Se han atendido \"+str(self.clientes)+\" clientes.\")\n",
        "          print(\"\")\n",
        "\n",
        "Rest=Restaurant(\"Fonda María\",\"Sushi\")\n",
        "Rest.describe_restaurant()\n",
        "\n",
        "Rest.Clientes_Atendidos(60)\n",
        "Rest.Aumenta_clientes(20)\n",
        "Rest.Aumenta_clientes(-10)"
      ],
      "execution_count": 21,
      "outputs": [
        {
          "output_type": "stream",
          "text": [
            "El nombre del restaurante es: Fonda María\n",
            "El tipo de comida que se sirve es: Sushi\n",
            "\n",
            "Asignación correcta\n",
            "Se han atendido 60 clientes.\n",
            "\n",
            "Incremento correcto\n",
            "Se han atendido 80 clientes.\n",
            "\n",
            "Incremento incorrecto, no se llavará a cabo\n",
            "Se han atendido 80 clientes.\n",
            "\n"
          ],
          "name": "stdout"
        }
      ]
    },
    {
      "cell_type": "markdown",
      "metadata": {
        "id": "D56Gay5i0JTT"
      },
      "source": [
        "---\n",
        "---\n",
        "##**▷☻ 2.-Control de acceso:**\n",
        "###***Planteamiento del problema:***\n",
        "      \n",
        "> Acompletar el código de la siguiente celda, que crea una clase Usuario, donde el constructor debe de aceptar el nombre de usuario y la contraseña, cuando se invoque el método ingresar debe de pedir la contraseña del usuario, si la contraseña es correcta, debe de imprimir Bienvenido a su cuenta, si la contraseña se ingresa incorrectamente 3 veces debe de imprimir Cuenta bloquead, intente más tarde y debe de reiniciar la varialbe self.intentosAcceso a cero."
      ]
    },
    {
      "cell_type": "code",
      "metadata": {
        "id": "rxDnwy-A0YQn",
        "outputId": "81d47f29-ba93-40ca-fe17-f8c9a2c6c49f",
        "colab": {
          "base_uri": "https://localhost:8080/"
        }
      },
      "source": [
        "class User():\n",
        "    def __init__(self,Nickname,password):\n",
        "        self.nombre_usuario = Nickname\n",
        "        self.password = password\n",
        "        self.intentosAcceso = 0\n",
        "        \n",
        "    def ingresar(self):\n",
        "        while(1):\n",
        "            cont = input(\"Ingrese su contraseña :\")\n",
        "            if cont ==self.password:\n",
        "                print(\"Bienvenido a su cuenta\")\n",
        "                break\n",
        "\n",
        "            else:\n",
        "                print(\"Contraseña incorrecta\")\n",
        "                print(\"\")\n",
        "                self.intentosAcceso+=1\n",
        "\n",
        "                if self.intentosAcceso == 3:\n",
        "                    print(\"Cuenta bloqueada, intente más tarde\")\n",
        "                    self.intentosAcceso=0\n",
        "                    break\n",
        "\n",
        "user1 = User('Juan','juan1234')\n",
        "user1.ingresar()"
      ],
      "execution_count": 28,
      "outputs": [
        {
          "output_type": "stream",
          "text": [
            "Ingrese su contraseña :Poio\n",
            "Contraseña incorrecta\n",
            "\n",
            "Ingrese su contraseña :poio\n",
            "Contraseña incorrecta\n",
            "\n",
            "Ingrese su contraseña :poio\n",
            "Contraseña incorrecta\n",
            "\n",
            "Cuenta bloqueada, intente más tarde\n"
          ],
          "name": "stdout"
        }
      ]
    },
    {
      "cell_type": "markdown",
      "metadata": {
        "id": "5z_Ir8_JZk-1"
      },
      "source": [
        "#**2.5.5 Ejercicios**"
      ]
    },
    {
      "cell_type": "markdown",
      "metadata": {
        "id": "p7E4xV4eZwWV"
      },
      "source": [
        "---\n",
        "---\n",
        "##**▷☻ 1.- Heladería:**\n",
        "###***Planteamiento del problema:***\n",
        "      \n",
        ">Una heladería se puede ver como un tipo específico de restaurante. Cree una clase que se llame Heladeria que herede de la clase Restaurante que se ha desarrollado en los ejercicios anteriores. Cree un atributo que se llame sabores que debe de ser una lista (estructura de datos). Agregar un método a la clase Heladeria que muestre los sabores que tiene."
      ]
    },
    {
      "cell_type": "code",
      "metadata": {
        "id": "3yJeklz5adN5"
      },
      "source": [
        "class Restaurant():\n",
        "    \n",
        "    def __init__(self,nombre_restaurat,tipo_cocina):\n",
        "        self.nombre_restaurat=nombre_restaurat\n",
        "        self.tipo_cocina=tipo_cocina\n",
        "        \n",
        "    def describe_restaurant(self):\n",
        "        print(\"El nombre del restaurante es: \"+self.nombre_restaurat)\n",
        "        print(\"El tipo de comida que se sirve es: \"+self.tipo_cocina)\n",
        "    \n",
        "class Heladeria(Restaurant):\n",
        "    \n",
        "    def __init__(self,sabores)\n",
        "        self.sabores=sabores\n",
        "\n",
        "    def sabo(self,sabores):\n",
        "        print(\"Los sabores que hay son: \"+)\n",
        "\n",
        "\n",
        "Rest=Restaurant(\"Fonda María\",\"Sushi\")\n",
        "Rest.describe_restaurant()"
      ],
      "execution_count": null,
      "outputs": []
    }
  ]
}